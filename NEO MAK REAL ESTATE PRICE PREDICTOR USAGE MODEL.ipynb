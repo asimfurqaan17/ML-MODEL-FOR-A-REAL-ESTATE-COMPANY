{
 "cells": [
  {
   "cell_type": "markdown",
   "id": "45950d8c",
   "metadata": {},
   "source": [
    "# NEOMAK employes can change the features and use the model to predict real estate values. [Model designed by: Mohammed Asim Furqaan]"
   ]
  },
  {
   "cell_type": "code",
   "execution_count": 1,
   "id": "46d19f6d",
   "metadata": {},
   "outputs": [],
   "source": [
    "from joblib import dump,load\n",
    "model = load('NEOMAK.joblib')"
   ]
  },
  {
   "cell_type": "code",
   "execution_count": 2,
   "id": "9b7692a5",
   "metadata": {},
   "outputs": [],
   "source": [
    "import numpy as np"
   ]
  },
  {
   "cell_type": "code",
   "execution_count": 3,
   "id": "278bd6ed",
   "metadata": {},
   "outputs": [
    {
     "data": {
      "text/plain": [
       "array([22.291])"
      ]
     },
     "execution_count": 3,
     "metadata": {},
     "output_type": "execute_result"
    }
   ],
   "source": [
    "features1 = (np.array([[-0.43942006,  3.12628155, -1.12165014, -0.27288841, -1.42262747,\n",
    "        -0.2438205 , -1.31238772,  2.61111401, -1.0016859 , -0.5778192 ,\n",
    "        -0.97491834,  0.41164221, -0.86091034]]))\n",
    "model.predict(features1)"
   ]
  },
  {
   "cell_type": "code",
   "execution_count": 4,
   "id": "efd07ef8",
   "metadata": {},
   "outputs": [
    {
     "data": {
      "text/plain": [
       "array([25.53])"
      ]
     },
     "execution_count": 4,
     "metadata": {},
     "output_type": "execute_result"
    }
   ],
   "source": [
    "features2 =  (np.array([[-0.44352175,  3.12628155, -1.35893781, -0.27288841, -1.0542567 ,\n",
    "         0.49725126, -1.3938808 ,  2.19312325, -0.65766683, -0.78557904,\n",
    "        -0.69277865,  0.39131918, -0.94116739]]))\n",
    "model.predict(features2)"
   ]
  },
  {
   "cell_type": "code",
   "execution_count": 5,
   "id": "75a44c87",
   "metadata": {},
   "outputs": [
    {
     "data": {
      "text/plain": [
       "array([23.689])"
      ]
     },
     "execution_count": 5,
     "metadata": {},
     "output_type": "execute_result"
    }
   ],
   "source": [
    "features4 =  (np.array([[-0.40786253, -0.4898311 , -0.57719868, -0.27288841, -0.5573845 ,\n",
    "        0.04304598, -1.42222622,  0.79643404, -0.5429938 , -0.74402708,\n",
    "        0.52982668,  0.45343469, -0.91902752]]))\n",
    "model.predict(features4)"
   ]
  }
 ],
 "metadata": {
  "kernelspec": {
   "display_name": "Python 3 (ipykernel)",
   "language": "python",
   "name": "python3"
  },
  "language_info": {
   "codemirror_mode": {
    "name": "ipython",
    "version": 3
   },
   "file_extension": ".py",
   "mimetype": "text/x-python",
   "name": "python",
   "nbconvert_exporter": "python",
   "pygments_lexer": "ipython3",
   "version": "3.10.5"
  }
 },
 "nbformat": 4,
 "nbformat_minor": 5
}
